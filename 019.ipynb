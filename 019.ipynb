{
 "cells": [
  {
   "cell_type": "markdown",
   "metadata": {},
   "source": [
    "#Problem 19: Counting Sundays\n",
    "\n",
    "You are given the following information, but you may prefer to do some research for yourself.\n",
    "\n",
    "- 1 Jan 1900 was a Monday.\n",
    "- Thirty days has September, April, June and November. All the rest have thirty-one, Saving February alone, Which has twenty-eight, rain or shine. And on leap years, twenty-nine.\n",
    "- A leap year occurs on any year evenly divisible by 4, but not on a century unless it is divisible by 400.\n",
    "\n",
    "How many Sundays fell on the first of the month during the twentieth century (1 Jan 1901 to 31 Dec 2000)?"
   ]
  },
  {
   "cell_type": "code",
   "execution_count": 1,
   "metadata": {
    "collapsed": false
   },
   "outputs": [
    {
     "data": {
      "text/plain": [
       "1"
      ]
     },
     "execution_count": 1,
     "metadata": {},
     "output_type": "execute_result"
    }
   ],
   "source": [
    "# first thing to realize is that this problem is essentially a fizz-buzz, lots of moding ahead\n",
    "\n",
    "# also note that 1 Jan 1901 was a Tuesday\n",
    "365 % 7"
   ]
  },
  {
   "cell_type": "code",
   "execution_count": 2,
   "metadata": {
    "collapsed": false
   },
   "outputs": [
    {
     "data": {
      "text/plain": [
       "171"
      ]
     },
     "execution_count": 2,
     "metadata": {},
     "output_type": "execute_result"
    }
   ],
   "source": [
    "def first_sundays_since_1901(end_year=2000):\n",
    "    '''returns the number of Sundays that fell on the first of the month since 1 Jan 1901 and 31 Dec of specified end year'''\n",
    "    if end_year < 1901:\n",
    "        raise ValueError('end_year < 1901; Lets keep it professional people...')\n",
    "    \n",
    "    days = 1\n",
    "    first_sundays_count = 0\n",
    "\n",
    "    apr_jun_sep_nov = [4,6,9,11]\n",
    "\n",
    "    # nested loop through each year and month\n",
    "    for year in xrange(1901, end_year + 1):\n",
    "        for month in xrange(1,12 + 1):\n",
    "\n",
    "            # check if 1st of month is on a Sunday\n",
    "            # since days % 7 == 1 would imply a Tuesday, then days % 7 == 6 implies Sunday\n",
    "            if (days % 7 == 6):\n",
    "                first_sundays_count += 1\n",
    "\n",
    "            # apr_jun_sep_nov\n",
    "            if month in apr_jun_sep_nov:            \n",
    "                days += 30\n",
    "\n",
    "            # feb\n",
    "            elif month == 2:\n",
    "                if (year % 4 == 0):\n",
    "                    days += 29\n",
    "                else:\n",
    "                    days += 28\n",
    "\n",
    "            # rest of months\n",
    "            else:\n",
    "                days += 31\n",
    "\n",
    "    return first_sundays_count\n",
    "\n",
    "first_sundays_since_1901(2000)"
   ]
  }
 ],
 "metadata": {
  "kernelspec": {
   "display_name": "Python 2",
   "language": "python",
   "name": "python2"
  },
  "language_info": {
   "codemirror_mode": {
    "name": "ipython",
    "version": 2
   },
   "file_extension": ".py",
   "mimetype": "text/x-python",
   "name": "python",
   "nbconvert_exporter": "python",
   "pygments_lexer": "ipython2",
   "version": "2.7.10"
  }
 },
 "nbformat": 4,
 "nbformat_minor": 0
}
