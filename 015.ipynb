{
 "cells": [
  {
   "cell_type": "markdown",
   "metadata": {},
   "source": [
    "#Problem 15: Lattice paths\n",
    "\n",
    "Starting in the top left corner of a 2×2 grid, and only being able to move to the right and down, there are exactly 6 routes to the bottom right corner.\n",
    "\n",
    "\n",
    "How many such routes are there through a 20×20 grid?"
   ]
  },
  {
   "cell_type": "markdown",
   "metadata": {},
   "source": [
    "###Relation to Pascal' s Triangle\n",
    "\n",
    "The trick to this problem is noting that the number of distinct latice paths relates to Pascal's Triangle. An example of this is below, where the number noted is the number of disctinct paths to get to that node from node X while traveling only down or right.\n",
    "\n",
    "    X -- 1 -- 1 -- 1 -- 1\n",
    "    |    |    |    |    |\n",
    "    1 -- 2 -- 3 -- 4 -- 5\n",
    "    |    |    |    |    |\n",
    "    1 -- 3 -- 6 - 10 - 15\n",
    "    |    |    |    |    |\n",
    "    1 -- 4 - 10 - 20 - 35\n",
    "    |    |    |    |    |\n",
    "    1 -- 5 - 15 - 35 - 70\n",
    "    \n",
    "This means that we can use combinations to find our answer!"
   ]
  },
  {
   "cell_type": "code",
   "execution_count": 54,
   "metadata": {
    "collapsed": false
   },
   "outputs": [
    {
     "data": {
      "text/plain": [
       "6"
      ]
     },
     "execution_count": 54,
     "metadata": {},
     "output_type": "execute_result"
    }
   ],
   "source": [
    "import math\n",
    "\n",
    "def nCk (n, k):\n",
    "    '''returns number of combinations of choosing k elements from n elements'''\n",
    "    if (n >= k):\n",
    "        f = math.factorial\n",
    "        return f(n) / (f(k) * f(n-k))\n",
    "    else:\n",
    "        raise ValueError('k > n; Lets keep it professional people...')\n",
    "\n",
    "# test function\n",
    "nCk(4,2)"
   ]
  },
  {
   "cell_type": "code",
   "execution_count": 55,
   "metadata": {
    "collapsed": false
   },
   "outputs": [
    {
     "data": {
      "text/plain": [
       "6"
      ]
     },
     "execution_count": 55,
     "metadata": {},
     "output_type": "execute_result"
    }
   ],
   "source": [
    "def lattice_path_count (x, y):\n",
    "    '''returns '''\n",
    "    if (x<1 | y<1):\n",
    "        raise ValueError('x or y less than 1; Really?')\n",
    "    \n",
    "    return nCk(x+y, x)\n",
    "\n",
    "# test function\n",
    "lattice_path_count(2,2)"
   ]
  },
  {
   "cell_type": "code",
   "execution_count": 57,
   "metadata": {
    "collapsed": false
   },
   "outputs": [
    {
     "data": {
      "text/plain": [
       "137846528820L"
      ]
     },
     "execution_count": 57,
     "metadata": {},
     "output_type": "execute_result"
    }
   ],
   "source": [
    "# calculate solution\n",
    "lattice_path_count(20,20)"
   ]
  },
  {
   "cell_type": "markdown",
   "metadata": {},
   "source": [
    "------\n",
    "\n",
    "### Just for fun"
   ]
  },
  {
   "cell_type": "code",
   "execution_count": 56,
   "metadata": {
    "collapsed": false
   },
   "outputs": [
    {
     "name": "stdout",
     "output_type": "stream",
     "text": [
      "True = right; False = down\n"
     ]
    },
    {
     "data": {
      "text/html": [
       "<div>\n",
       "<table border=\"1\" class=\"dataframe\">\n",
       "  <thead>\n",
       "    <tr style=\"text-align: right;\">\n",
       "      <th></th>\n",
       "      <th>0</th>\n",
       "      <th>1</th>\n",
       "      <th>2</th>\n",
       "      <th>3</th>\n",
       "    </tr>\n",
       "  </thead>\n",
       "  <tbody>\n",
       "    <tr>\n",
       "      <th>0</th>\n",
       "      <td>False</td>\n",
       "      <td>False</td>\n",
       "      <td>True</td>\n",
       "      <td>True</td>\n",
       "    </tr>\n",
       "    <tr>\n",
       "      <th>1</th>\n",
       "      <td>False</td>\n",
       "      <td>True</td>\n",
       "      <td>False</td>\n",
       "      <td>True</td>\n",
       "    </tr>\n",
       "    <tr>\n",
       "      <th>2</th>\n",
       "      <td>True</td>\n",
       "      <td>False</td>\n",
       "      <td>False</td>\n",
       "      <td>True</td>\n",
       "    </tr>\n",
       "    <tr>\n",
       "      <th>3</th>\n",
       "      <td>False</td>\n",
       "      <td>True</td>\n",
       "      <td>True</td>\n",
       "      <td>False</td>\n",
       "    </tr>\n",
       "    <tr>\n",
       "      <th>4</th>\n",
       "      <td>True</td>\n",
       "      <td>False</td>\n",
       "      <td>True</td>\n",
       "      <td>False</td>\n",
       "    </tr>\n",
       "    <tr>\n",
       "      <th>5</th>\n",
       "      <td>True</td>\n",
       "      <td>True</td>\n",
       "      <td>False</td>\n",
       "      <td>False</td>\n",
       "    </tr>\n",
       "  </tbody>\n",
       "</table>\n",
       "</div>"
      ],
      "text/plain": [
       "       0      1      2      3\n",
       "0  False  False   True   True\n",
       "1  False   True  False   True\n",
       "2   True  False  False   True\n",
       "3  False   True   True  False\n",
       "4   True  False   True  False\n",
       "5   True   True  False  False"
      ]
     },
     "execution_count": 56,
     "metadata": {},
     "output_type": "execute_result"
    }
   ],
   "source": [
    "def lattice_paths (x, y):\n",
    "    '''returns all lattice paths in a dataframe for a x by y grid'''\n",
    "    import pandas as pd\n",
    "\n",
    "    df = pd.DataFrame([True,False])\n",
    "    i = 1\n",
    "\n",
    "    while (i < x + y):\n",
    "        temp_name = str(i)\n",
    "        temp1 = df.copy()\n",
    "        temp2 = df.copy()\n",
    "\n",
    "        temp1[temp_name] = True\n",
    "        temp2[temp_name] = False\n",
    "\n",
    "        df = pd.concat([temp1, temp2])\n",
    "        \n",
    "        if ((i > x) | (i > y)):\n",
    "            df['x_moves'] = df.sum(axis=1)\n",
    "            df = df[(df.x_moves <= x)]\n",
    "            df = df[(i - df.x_moves <= y)]\n",
    "            del df['x_moves']\n",
    "        \n",
    "        i += 1\n",
    "\n",
    "    df['x_moves'] = df.sum(axis=1)\n",
    "    df = df[(df.x_moves == x)]\n",
    "    del df['x_moves']\n",
    "\n",
    "    df.reset_index(drop=True, inplace=True)\n",
    "    \n",
    "    print 'True = right; False = down'\n",
    "\n",
    "    return df \n",
    "\n",
    "# test function\n",
    "lattice_paths(2, 2)"
   ]
  }
 ],
 "metadata": {
  "kernelspec": {
   "display_name": "Python 2",
   "language": "python",
   "name": "python2"
  },
  "language_info": {
   "codemirror_mode": {
    "name": "ipython",
    "version": 2
   },
   "file_extension": ".py",
   "mimetype": "text/x-python",
   "name": "python",
   "nbconvert_exporter": "python",
   "pygments_lexer": "ipython2",
   "version": "2.7.10"
  }
 },
 "nbformat": 4,
 "nbformat_minor": 0
}
