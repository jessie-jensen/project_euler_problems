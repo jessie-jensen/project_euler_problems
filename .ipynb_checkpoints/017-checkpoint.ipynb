{
 "cells": [
  {
   "cell_type": "markdown",
   "metadata": {},
   "source": [
    "#Problem 17: Number letter counts\n",
    "\n",
    "If the numbers 1 to 5 are written out in words: one, two, three, four, five, then there are $ 3 + 3 + 5 + 4 + 4 = 19 $ letters used in total.\n",
    "\n",
    "If all the numbers from 1 to 1000 (one thousand) inclusive were written out in words, how many letters would be used?\n",
    "\n",
    "\n",
    "*NOTE: Do not count spaces or hyphens. For example, 342 (three hundred and forty-two) contains 23 letters and 115 (one hundred and fifteen) contains 20 letters. The use of \"and\" when writing out numbers is in compliance with British usage.*"
   ]
  },
  {
   "cell_type": "code",
   "execution_count": 5,
   "metadata": {
    "collapsed": false
   },
   "outputs": [],
   "source": [
    "singles_dict = {1:'one',2:'two',3:'three',4:'four',5:'five',6:'six',7:'seven',8:'eight',9:'nine'}\n",
    "teen_dict = {10:'ten',11:'eleven',12:'twelve',13:'thirteen',14:'fourteen',15:'fifteen',16:'sixteen',17:'seventeen',18:'eighteen',19:'nineteen'}\n",
    "tens_dict = {2:'twenty',3:'thirty',4:'forty',5:'fifty',6:'sixty',7:'seventy',8:'eighty',9:'ninety'}"
   ]
  },
  {
   "cell_type": "code",
   "execution_count": 6,
   "metadata": {
    "collapsed": false
   },
   "outputs": [
    {
     "name": "stdout",
     "output_type": "stream",
     "text": [
      "one\n",
      "ten\n",
      "nineteen\n",
      "twenty-eight\n",
      "thirty-seven\n",
      "forty-six\n",
      "fifty-five\n",
      "sixty-four\n",
      "seventy-three\n",
      "eighty-two\n",
      "ninety-one\n"
     ]
    }
   ],
   "source": [
    "def tens_writer(x):    \n",
    "    x_s = str(x)\n",
    "    \n",
    "    if ((x>=100) | (x<=0)):\n",
    "        raise ValueError('x out of function range. 0 < x < 100')\n",
    "    \n",
    "    \n",
    "    if (x >= 20):\n",
    "        if (x_s[1] == '0'):\n",
    "            return tens_dict[int(x_s[0])]\n",
    "        else:\n",
    "            return '%s-%s' % (tens_dict[int(x_s[0])], singles_dict[int(x_s[1])])\n",
    "    elif (x >= 10):\n",
    "        return teen_dict[x]\n",
    "    else:\n",
    "        return singles_dict[x]\n",
    "    \n",
    "    \n",
    "    \n",
    "# test function\n",
    "for i in xrange(1,100,9):\n",
    "    print tens_writer(i)"
   ]
  },
  {
   "cell_type": "code",
   "execution_count": 7,
   "metadata": {
    "collapsed": false
   },
   "outputs": [
    {
     "name": "stdout",
     "output_type": "stream",
     "text": [
      "one\n",
      "ten\n",
      "nineteen\n",
      "twenty-eight\n",
      "thirty-seven\n",
      "forty-six\n",
      "fifty-five\n",
      "sixty-four\n",
      "seventy-three\n",
      "eighty-two\n",
      "ninety-one\n",
      "one hundred\n",
      "one hundred and nine\n",
      "one hundred and eighteen\n",
      "one hundred and twenty-seven\n",
      "one hundred and thirty-six\n",
      "one hundred and forty-five\n",
      "one hundred and fifty-four\n",
      "one hundred and sixty-three\n",
      "one hundred and seventy-two\n",
      "one hundred and eighty-one\n",
      "one hundred and ninety\n",
      "one hundred and ninety-nine\n",
      "two hundred and eight\n",
      "two hundred and seventeen\n",
      "two hundred and twenty-six\n",
      "two hundred and thirty-five\n",
      "two hundred and forty-four\n",
      "two hundred and fifty-three\n",
      "two hundred and sixty-two\n",
      "two hundred and seventy-one\n",
      "two hundred and eighty\n",
      "two hundred and eighty-nine\n",
      "two hundred and ninety-eight\n"
     ]
    }
   ],
   "source": [
    "def hundreds_writer(x):\n",
    "    x_s = str(x)\n",
    "    \n",
    "    if (x >= 1000) | (x <= 0):\n",
    "        raise ValueError('x out of function range. 0 < x < 1000')\n",
    "    \n",
    "    if (x >= 100):\n",
    "        if ((x_s[1]=='0') & (x_s[2]=='0')):\n",
    "            return '%s hundred' % singles_dict[int(x_s[0])]\n",
    "        else:\n",
    "            return '%s hundred and %s' % (singles_dict[int(x_s[0])], tens_writer(int(x_s[1:3])))\n",
    "    else:\n",
    "        return tens_writer(x)\n",
    "    \n",
    "# test function\n",
    "for i in xrange(1,300,9):\n",
    "    print hundreds_writer(i)"
   ]
  },
  {
   "cell_type": "code",
   "execution_count": null,
   "metadata": {
    "collapsed": true
   },
   "outputs": [],
   "source": []
  },
  {
   "cell_type": "code",
   "execution_count": 8,
   "metadata": {
    "collapsed": false
   },
   "outputs": [
    {
     "data": {
      "text/plain": [
       "'onetwothreefourfivesixseveneightnineteneleventwelvethirteenfourteenfifteensixteenseventeeneighteennineteentwentytwentyonetwentytwotwentythreetwentyfourtwentyfivetwentysixtwentyseventwentyeighttwentyninethirtythirtyonethirtytwothirtythreethirtyfourthirtyfivethirtysixthirtyseventhirtyeightthirtyninefortyfortyonefortytwofortythreefortyfourfortyfivefortysixfortysevenfortyeightfortyninefiftyfiftyonefiftytwofiftythreefiftyfourfiftyfivefiftysixfiftysevenfiftyeightfiftyninesixtysixtyonesixtytwosixtythreesixtyfoursixtyfivesixtysixsixtysevensixtyeightsixtynineseventyseventyoneseventytwoseventythreeseventyfourseventyfiveseventysixseventysevenseventyeightseventynineeightyeightyoneeightytwoeightythreeeightyfoureightyfiveeightysixeightyseveneightyeighteightynineninetyninetyoneninetytwoninetythreeninetyfourninetyfiveninetysixninetysevenninetyeightninetynineonehundredonehundredandoneonehundredandtwoonehundredandthreeonehundredandfouronehundredandfiveonehundredandsixonehundredandsevenonehundredandeightonehundredandnineonehundredandtenonehundredandelevenonehundredandtwelveonehundredandthirteenonehundredandfourteenonehundredandfifteenonehundredandsixteenonehundredandseventeenonehundredandeighteenonehundredandnineteenonehundredandtwentyonehundredandtwentyoneonehundredandtwentytwoonehundredandtwentythreeonehundredandtwentyfouronehundredandtwentyfiveonehundredandtwentysixonehundredandtwentysevenonehundredandtwentyeightonehundredandtwentynineonehundredandthirtyonehundredandthirtyoneonehundredandthirtytwoonehundredandthirtythreeonehundredandthirtyfouronehundredandthirtyfiveonehundredandthirtysixonehundredandthirtysevenonehundredandthirtyeightonehundredandthirtynineonehundredandfortyonehundredandfortyoneonehundredandfortytwoonehundredandfortythreeonehundredandfortyfouronehundredandfortyfiveonehundredandfortysixonehundredandfortysevenonehundredandfortyeightonehundredandfortynineonehundredandfiftyonehundredandfiftyoneonehundredandfiftytwoonehundredandfiftythreeonehundredandfiftyfouronehundredandfiftyfiveonehundredandfiftysixonehundredandfiftysevenonehundredandfiftyeightonehundredandfiftynineonehundredandsixtyonehundredandsixtyoneonehundredandsixtytwoonehundredandsixtythreeonehundredandsixtyfouronehundredandsixtyfiveonehundredandsixtysixonehundredandsixtysevenonehundredandsixtyeightonehundredandsixtynineonehundredandseventyonehundredandseventyoneonehundredandseventytwoonehundredandseventythreeonehundredandseventyfouronehundredandseventyfiveonehundredandseventysixonehundredandseventysevenonehundredandseventyeightonehundredandseventynineonehundredandeightyonehundredandeightyoneonehundredandeightytwoonehundredandeightythreeonehundredandeightyfouronehundredandeightyfiveonehundredandeightysixonehundredandeightysevenonehundredandeightyeightonehundredandeightynineonehundredandninetyonehundredandninetyoneonehundredandninetytwoonehundredandninetythreeonehundredandninetyfouronehundredandninetyfiveonehundredandninetysixonehundredandninetysevenonehundredandninetyeightonehundredandninetyninetwohundredtwohundredandonetwohundredandtwotwohundredandthreetwohundredandfourtwohundredandfivetwohundredandsixtwohundredandseventwohundredandeighttwohundredandninetwohundredandtentwohundredandeleventwohundredandtwelvetwohundredandthirteentwohundredandfourteentwohundredandfifteentwohundredandsixteentwohundredandseventeentwohundredandeighteentwohundredandnineteentwohundredandtwentytwohundredandtwentyonetwohundredandtwentytwotwohundredandtwentythreetwohundredandtwentyfourtwohundredandtwentyfivetwohundredandtwentysixtwohundredandtwentyseventwohundredandtwentyeighttwohundredandtwentyninetwohundredandthirtytwohundredandthirtyonetwohundredandthirtytwotwohundredandthirtythreetwohundredandthirtyfourtwohundredandthirtyfivetwohundredandthirtysixtwohundredandthirtyseventwohundredandthirtyeighttwohundredandthirtyninetwohundredandfortytwohundredandfortyonetwohundredandfortytwotwohundredandfortythreetwohundredandfortyfourtwohundredandfortyfivetwohundredandfortysixtwohundredandfortyseventwohundredandfortyeighttwohundredandfortyninetwohundredandfiftytwohundredandfiftyonetwohundredandfiftytwotwohundredandfiftythreetwohundredandfiftyfourtwohundredandfiftyfivetwohundredandfiftysixtwohundredandfiftyseventwohundredandfiftyeighttwohundredandfiftyninetwohundredandsixtytwohundredandsixtyonetwohundredandsixtytwotwohundredandsixtythreetwohundredandsixtyfourtwohundredandsixtyfivetwohundredandsixtysixtwohundredandsixtyseventwohundredandsixtyeighttwohundredandsixtyninetwohundredandseventytwohundredandseventyonetwohundredandseventytwotwohundredandseventythreetwohundredandseventyfourtwohundredandseventyfivetwohundredandseventysixtwohundredandseventyseventwohundredandseventyeighttwohundredandseventyninetwohundredandeightytwohundredandeightyonetwohundredandeightytwotwohundredandeightythreetwohundredandeightyfourtwohundredandeightyfivetwohundredandeightysixtwohundredandeightyseventwohundredandeightyeighttwohundredandeightyninetwohundredandninetytwohundredandninetyonetwohundredandninetytwotwohundredandninetythreetwohundredandninetyfourtwohundredandninetyfivetwohundredandninetysixtwohundredandninetyseventwohundredandninetyeighttwohundredandninetyninethreehundredthreehundredandonethreehundredandtwothreehundredandthreethreehundredandfourthreehundredandfivethreehundredandsixthreehundredandseventhreehundredandeightthreehundredandninethreehundredandtenthreehundredandeleventhreehundredandtwelvethreehundredandthirteenthreehundredandfourteenthreehundredandfifteenthreehundredandsixteenthreehundredandseventeenthreehundredandeighteenthreehundredandnineteenthreehundredandtwentythreehundredandtwentyonethreehundredandtwentytwothreehundredandtwentythreethreehundredandtwentyfourthreehundredandtwentyfivethreehundredandtwentysixthreehundredandtwentyseventhreehundredandtwentyeightthreehundredandtwentyninethreehundredandthirtythreehundredandthirtyonethreehundredandthirtytwothreehundredandthirtythreethreehundredandthirtyfourthreehundredandthirtyfivethreehundredandthirtysixthreehundredandthirtyseventhreehundredandthirtyeightthreehundredandthirtyninethreehundredandfortythreehundredandfortyonethreehundredandfortytwothreehundredandfortythreethreehundredandfortyfourthreehundredandfortyfivethreehundredandfortysixthreehundredandfortyseventhreehundredandfortyeightthreehundredandfortyninethreehundredandfiftythreehundredandfiftyonethreehundredandfiftytwothreehundredandfiftythreethreehundredandfiftyfourthreehundredandfiftyfivethreehundredandfiftysixthreehundredandfiftyseventhreehundredandfiftyeightthreehundredandfiftyninethreehundredandsixtythreehundredandsixtyonethreehundredandsixtytwothreehundredandsixtythreethreehundredandsixtyfourthreehundredandsixtyfivethreehundredandsixtysixthreehundredandsixtyseventhreehundredandsixtyeightthreehundredandsixtyninethreehundredandseventythreehundredandseventyonethreehundredandseventytwothreehundredandseventythreethreehundredandseventyfourthreehundredandseventyfivethreehundredandseventysixthreehundredandseventyseventhreehundredandseventyeightthreehundredandseventyninethreehundredandeightythreehundredandeightyonethreehundredandeightytwothreehundredandeightythreethreehundredandeightyfourthreehundredandeightyfivethreehundredandeightysixthreehundredandeightyseventhreehundredandeightyeightthreehundredandeightyninethreehundredandninetythreehundredandninetyonethreehundredandninetytwothreehundredandninetythreethreehundredandninetyfourthreehundredandninetyfivethreehundredandninetysixthreehundredandninetyseventhreehundredandninetyeightthreehundredandninetyninefourhundredfourhundredandonefourhundredandtwofourhundredandthreefourhundredandfourfourhundredandfivefourhundredandsixfourhundredandsevenfourhundredandeightfourhundredandninefourhundredandtenfourhundredandelevenfourhundredandtwelvefourhundredandthirteenfourhundredandfourteenfourhundredandfifteenfourhundredandsixteenfourhundredandseventeenfourhundredandeighteenfourhundredandnineteenfourhundredandtwentyfourhundredandtwentyonefourhundredandtwentytwofourhundredandtwentythreefourhundredandtwentyfourfourhundredandtwentyfivefourhundredandtwentysixfourhundredandtwentysevenfourhundredandtwentyeightfourhundredandtwentyninefourhundredandthirtyfourhundredandthirtyonefourhundredandthirtytwofourhundredandthirtythreefourhundredandthirtyfourfourhundredandthirtyfivefourhundredandthirtysixfourhundredandthirtysevenfourhundredandthirtyeightfourhundredandthirtyninefourhundredandfortyfourhundredandfortyonefourhundredandfortytwofourhundredandfortythreefourhundredandfortyfourfourhundredandfortyfivefourhundredandfortysixfourhundredandfortysevenfourhundredandfortyeightfourhundredandfortyninefourhundredandfiftyfourhundredandfiftyonefourhundredandfiftytwofourhundredandfiftythreefourhundredandfiftyfourfourhundredandfiftyfivefourhundredandfiftysixfourhundredandfiftysevenfourhundredandfiftyeightfourhundredandfiftyninefourhundredandsixtyfourhundredandsixtyonefourhundredandsixtytwofourhundredandsixtythreefourhundredandsixtyfourfourhundredandsixtyfivefourhundredandsixtysixfourhundredandsixtysevenfourhundredandsixtyeightfourhundredandsixtyninefourhundredandseventyfourhundredandseventyonefourhundredandseventytwofourhundredandseventythreefourhundredandseventyfourfourhundredandseventyfivefourhundredandseventysixfourhundredandseventysevenfourhundredandseventyeightfourhundredandseventyninefourhundredandeightyfourhundredandeightyonefourhundredandeightytwofourhundredandeightythreefourhundredandeightyfourfourhundredandeightyfivefourhundredandeightysixfourhundredandeightysevenfourhundredandeightyeightfourhundredandeightyninefourhundredandninetyfourhundredandninetyonefourhundredandninetytwofourhundredandninetythreefourhundredandninetyfourfourhundredandninetyfivefourhundredandninetysixfourhundredandninetysevenfourhundredandninetyeightfourhundredandninetyninefivehundredfivehundredandonefivehundredandtwofivehundredandthreefivehundredandfourfivehundredandfivefivehundredandsixfivehundredandsevenfivehundredandeightfivehundredandninefivehundredandtenfivehundredandelevenfivehundredandtwelvefivehundredandthirteenfivehundredandfourteenfivehundredandfifteenfivehundredandsixteenfivehundredandseventeenfivehundredandeighteenfivehundredandnineteenfivehundredandtwentyfivehundredandtwentyonefivehundredandtwentytwofivehundredandtwentythreefivehundredandtwentyfourfivehundredandtwentyfivefivehundredandtwentysixfivehundredandtwentysevenfivehundredandtwentyeightfivehundredandtwentyninefivehundredandthirtyfivehundredandthirtyonefivehundredandthirtytwofivehundredandthirtythreefivehundredandthirtyfourfivehundredandthirtyfivefivehundredandthirtysixfivehundredandthirtysevenfivehundredandthirtyeightfivehundredandthirtyninefivehundredandfortyfivehundredandfortyonefivehundredandfortytwofivehundredandfortythreefivehundredandfortyfourfivehundredandfortyfivefivehundredandfortysixfivehundredandfortysevenfivehundredandfortyeightfivehundredandfortyninefivehundredandfiftyfivehundredandfiftyonefivehundredandfiftytwofivehundredandfiftythreefivehundredandfiftyfourfivehundredandfiftyfivefivehundredandfiftysixfivehundredandfiftysevenfivehundredandfiftyeightfivehundredandfiftyninefivehundredandsixtyfivehundredandsixtyonefivehundredandsixtytwofivehundredandsixtythreefivehundredandsixtyfourfivehundredandsixtyfivefivehundredandsixtysixfivehundredandsixtysevenfivehundredandsixtyeightfivehundredandsixtyninefivehundredandseventyfivehundredandseventyonefivehundredandseventytwofivehundredandseventythreefivehundredandseventyfourfivehundredandseventyfivefivehundredandseventysixfivehundredandseventysevenfivehundredandseventyeightfivehundredandseventyninefivehundredandeightyfivehundredandeightyonefivehundredandeightytwofivehundredandeightythreefivehundredandeightyfourfivehundredandeightyfivefivehundredandeightysixfivehundredandeightysevenfivehundredandeightyeightfivehundredandeightyninefivehundredandninetyfivehundredandninetyonefivehundredandninetytwofivehundredandninetythreefivehundredandninetyfourfivehundredandninetyfivefivehundredandninetysixfivehundredandninetysevenfivehundredandninetyeightfivehundredandninetyninesixhundredsixhundredandonesixhundredandtwosixhundredandthreesixhundredandfoursixhundredandfivesixhundredandsixsixhundredandsevensixhundredandeightsixhundredandninesixhundredandtensixhundredandelevensixhundredandtwelvesixhundredandthirteensixhundredandfourteensixhundredandfifteensixhundredandsixteensixhundredandseventeensixhundredandeighteensixhundredandnineteensixhundredandtwentysixhundredandtwentyonesixhundredandtwentytwosixhundredandtwentythreesixhundredandtwentyfoursixhundredandtwentyfivesixhundredandtwentysixsixhundredandtwentysevensixhundredandtwentyeightsixhundredandtwentyninesixhundredandthirtysixhundredandthirtyonesixhundredandthirtytwosixhundredandthirtythreesixhundredandthirtyfoursixhundredandthirtyfivesixhundredandthirtysixsixhundredandthirtysevensixhundredandthirtyeightsixhundredandthirtyninesixhundredandfortysixhundredandfortyonesixhundredandfortytwosixhundredandfortythreesixhundredandfortyfoursixhundredandfortyfivesixhundredandfortysixsixhundredandfortysevensixhundredandfortyeightsixhundredandfortyninesixhundredandfiftysixhundredandfiftyonesixhundredandfiftytwosixhundredandfiftythreesixhundredandfiftyfoursixhundredandfiftyfivesixhundredandfiftysixsixhundredandfiftysevensixhundredandfiftyeightsixhundredandfiftyninesixhundredandsixtysixhundredandsixtyonesixhundredandsixtytwosixhundredandsixtythreesixhundredandsixtyfoursixhundredandsixtyfivesixhundredandsixtysixsixhundredandsixtysevensixhundredandsixtyeightsixhundredandsixtyninesixhundredandseventysixhundredandseventyonesixhundredandseventytwosixhundredandseventythreesixhundredandseventyfoursixhundredandseventyfivesixhundredandseventysixsixhundredandseventysevensixhundredandseventyeightsixhundredandseventyninesixhundredandeightysixhundredandeightyonesixhundredandeightytwosixhundredandeightythreesixhundredandeightyfoursixhundredandeightyfivesixhundredandeightysixsixhundredandeightysevensixhundredandeightyeightsixhundredandeightyninesixhundredandninetysixhundredandninetyonesixhundredandninetytwosixhundredandninetythreesixhundredandninetyfoursixhundredandninetyfivesixhundredandninetysixsixhundredandninetysevensixhundredandninetyeightsixhundredandninetyninesevenhundredsevenhundredandonesevenhundredandtwosevenhundredandthreesevenhundredandfoursevenhundredandfivesevenhundredandsixsevenhundredandsevensevenhundredandeightsevenhundredandninesevenhundredandtensevenhundredandelevensevenhundredandtwelvesevenhundredandthirteensevenhundredandfourteensevenhundredandfifteensevenhundredandsixteensevenhundredandseventeensevenhundredandeighteensevenhundredandnineteensevenhundredandtwentysevenhundredandtwentyonesevenhundredandtwentytwosevenhundredandtwentythreesevenhundredandtwentyfoursevenhundredandtwentyfivesevenhundredandtwentysixsevenhundredandtwentysevensevenhundredandtwentyeightsevenhundredandtwentyninesevenhundredandthirtysevenhundredandthirtyonesevenhundredandthirtytwosevenhundredandthirtythreesevenhundredandthirtyfoursevenhundredandthirtyfivesevenhundredandthirtysixsevenhundredandthirtysevensevenhundredandthirtyeightsevenhundredandthirtyninesevenhundredandfortysevenhundredandfortyonesevenhundredandfortytwosevenhundredandfortythreesevenhundredandfortyfoursevenhundredandfortyfivesevenhundredandfortysixsevenhundredandfortysevensevenhundredandfortyeightsevenhundredandfortyninesevenhundredandfiftysevenhundredandfiftyonesevenhundredandfiftytwosevenhundredandfiftythreesevenhundredandfiftyfoursevenhundredandfiftyfivesevenhundredandfiftysixsevenhundredandfiftysevensevenhundredandfiftyeightsevenhundredandfiftyninesevenhundredandsixtysevenhundredandsixtyonesevenhundredandsixtytwosevenhundredandsixtythreesevenhundredandsixtyfoursevenhundredandsixtyfivesevenhundredandsixtysixsevenhundredandsixtysevensevenhundredandsixtyeightsevenhundredandsixtyninesevenhundredandseventysevenhundredandseventyonesevenhundredandseventytwosevenhundredandseventythreesevenhundredandseventyfoursevenhundredandseventyfivesevenhundredandseventysixsevenhundredandseventysevensevenhundredandseventyeightsevenhundredandseventyninesevenhundredandeightysevenhundredandeightyonesevenhundredandeightytwosevenhundredandeightythreesevenhundredandeightyfoursevenhundredandeightyfivesevenhundredandeightysixsevenhundredandeightysevensevenhundredandeightyeightsevenhundredandeightyninesevenhundredandninetysevenhundredandninetyonesevenhundredandninetytwosevenhundredandninetythreesevenhundredandninetyfoursevenhundredandninetyfivesevenhundredandninetysixsevenhundredandninetysevensevenhundredandninetyeightsevenhundredandninetynineeighthundredeighthundredandoneeighthundredandtwoeighthundredandthreeeighthundredandfoureighthundredandfiveeighthundredandsixeighthundredandseveneighthundredandeighteighthundredandnineeighthundredandteneighthundredandeleveneighthundredandtwelveeighthundredandthirteeneighthundredandfourteeneighthundredandfifteeneighthundredandsixteeneighthundredandseventeeneighthundredandeighteeneighthundredandnineteeneighthundredandtwentyeighthundredandtwentyoneeighthundredandtwentytwoeighthundredandtwentythreeeighthundredandtwentyfoureighthundredandtwentyfiveeighthundredandtwentysixeighthundredandtwentyseveneighthundredandtwentyeighteighthundredandtwentynineeighthundredandthirtyeighthundredandthirtyoneeighthundredandthirtytwoeighthundredandthirtythreeeighthundredandthirtyfoureighthundredandthirtyfiveeighthundredandthirtysixeighthundredandthirtyseveneighthundredandthirtyeighteighthundredandthirtynineeighthundredandfortyeighthundredandfortyoneeighthundredandfortytwoeighthundredandfortythreeeighthundredandfortyfoureighthundredandfortyfiveeighthundredandfortysixeighthundredandfortyseveneighthundredandfortyeighteighthundredandfortynineeighthundredandfiftyeighthundredandfiftyoneeighthundredandfiftytwoeighthundredandfiftythreeeighthundredandfiftyfoureighthundredandfiftyfiveeighthundredandfiftysixeighthundredandfiftyseveneighthundredandfiftyeighteighthundredandfiftynineeighthundredandsixtyeighthundredandsixtyoneeighthundredandsixtytwoeighthundredandsixtythreeeighthundredandsixtyfoureighthundredandsixtyfiveeighthundredandsixtysixeighthundredandsixtyseveneighthundredandsixtyeighteighthundredandsixtynineeighthundredandseventyeighthundredandseventyoneeighthundredandseventytwoeighthundredandseventythreeeighthundredandseventyfoureighthundredandseventyfiveeighthundredandseventysixeighthundredandseventyseveneighthundredandseventyeighteighthundredandseventynineeighthundredandeightyeighthundredandeightyoneeighthundredandeightytwoeighthundredandeightythreeeighthundredandeightyfoureighthundredandeightyfiveeighthundredandeightysixeighthundredandeightyseveneighthundredandeightyeighteighthundredandeightynineeighthundredandninetyeighthundredandninetyoneeighthundredandninetytwoeighthundredandninetythreeeighthundredandninetyfoureighthundredandninetyfiveeighthundredandninetysixeighthundredandninetyseveneighthundredandninetyeighteighthundredandninetynineninehundredninehundredandoneninehundredandtwoninehundredandthreeninehundredandfourninehundredandfiveninehundredandsixninehundredandsevenninehundredandeightninehundredandnineninehundredandtenninehundredandelevenninehundredandtwelveninehundredandthirteenninehundredandfourteenninehundredandfifteenninehundredandsixteenninehundredandseventeenninehundredandeighteenninehundredandnineteenninehundredandtwentyninehundredandtwentyoneninehundredandtwentytwoninehundredandtwentythreeninehundredandtwentyfourninehundredandtwentyfiveninehundredandtwentysixninehundredandtwentysevenninehundredandtwentyeightninehundredandtwentynineninehundredandthirtyninehundredandthirtyoneninehundredandthirtytwoninehundredandthirtythreeninehundredandthirtyfourninehundredandthirtyfiveninehundredandthirtysixninehundredandthirtysevenninehundredandthirtyeightninehundredandthirtynineninehundredandfortyninehundredandfortyoneninehundredandfortytwoninehundredandfortythreeninehundredandfortyfourninehundredandfortyfiveninehundredandfortysixninehundredandfortysevenninehundredandfortyeightninehundredandfortynineninehundredandfiftyninehundredandfiftyoneninehundredandfiftytwoninehundredandfiftythreeninehundredandfiftyfourninehundredandfiftyfiveninehundredandfiftysixninehundredandfiftysevenninehundredandfiftyeightninehundredandfiftynineninehundredandsixtyninehundredandsixtyoneninehundredandsixtytwoninehundredandsixtythreeninehundredandsixtyfourninehundredandsixtyfiveninehundredandsixtysixninehundredandsixtysevenninehundredandsixtyeightninehundredandsixtynineninehundredandseventyninehundredandseventyoneninehundredandseventytwoninehundredandseventythreeninehundredandseventyfourninehundredandseventyfiveninehundredandseventysixninehundredandseventysevenninehundredandseventyeightninehundredandseventynineninehundredandeightyninehundredandeightyoneninehundredandeightytwoninehundredandeightythreeninehundredandeightyfourninehundredandeightyfiveninehundredandeightysixninehundredandeightysevenninehundredandeightyeightninehundredandeightynineninehundredandninetyninehundredandninetyoneninehundredandninetytwoninehundredandninetythreeninehundredandninetyfourninehundredandninetyfiveninehundredandninetysixninehundredandninetysevenninehundredandninetyeightninehundredandninetynineonethousand'"
      ]
     },
     "execution_count": 8,
     "metadata": {},
     "output_type": "execute_result"
    }
   ],
   "source": [
    "# compute solution\n",
    "s = []\n",
    "a = ''\n",
    "\n",
    "for i in xrange(1,1000):\n",
    "    s.append(hundreds_writer(i))\n",
    "\n",
    "s.append('one thousand')\n",
    "    \n",
    "a.join(s).replace(' ','').replace('-','')"
   ]
  }
 ],
 "metadata": {
  "kernelspec": {
   "display_name": "Python 2",
   "language": "python",
   "name": "python2"
  },
  "language_info": {
   "codemirror_mode": {
    "name": "ipython",
    "version": 2
   },
   "file_extension": ".py",
   "mimetype": "text/x-python",
   "name": "python",
   "nbconvert_exporter": "python",
   "pygments_lexer": "ipython2",
   "version": "2.7.10"
  }
 },
 "nbformat": 4,
 "nbformat_minor": 0
}
