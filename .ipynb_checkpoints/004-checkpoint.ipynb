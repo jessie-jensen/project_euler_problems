{
 "cells": [
  {
   "cell_type": "markdown",
   "metadata": {},
   "source": [
    "#Problem 4: Largest palindrome product\n",
    "\n",
    "A palindromic number reads the same both ways. The largest palindrome made from the product of two 2-digit numbers is 9009 = 91 × 99.\n",
    "\n",
    "Find the largest palindrome made from the product of two 3-digit numbers."
   ]
  },
  {
   "cell_type": "code",
   "execution_count": 58,
   "metadata": {
    "collapsed": false
   },
   "outputs": [
    {
     "data": {
      "text/plain": [
       "True"
      ]
     },
     "execution_count": 58,
     "metadata": {},
     "output_type": "execute_result"
    }
   ],
   "source": [
    "def palindrome_check(n):\n",
    "    n_s = str(n)\n",
    "    check = True\n",
    "\n",
    "    for i in xrange(1, (len(n_s)/2) + 1 ):\n",
    "        check = (n_s[i-1] == n_s[-i]) & check\n",
    "        \n",
    "    return check\n",
    "\n",
    "# test function\n",
    "palindrome_check(9009)"
   ]
  },
  {
   "cell_type": "code",
   "execution_count": 65,
   "metadata": {
    "collapsed": false
   },
   "outputs": [
    {
     "data": {
      "text/plain": [
       "[90909, 81918, 72927, 63936, 54945, 45954, 36963, 27972, 18981]"
      ]
     },
     "execution_count": 65,
     "metadata": {},
     "output_type": "execute_result"
    }
   ],
   "source": [
    "n1 = 999\n",
    "n2 = 999\n",
    "products = []\n",
    "\n",
    "while (n1 > 1):\n",
    "    while (n2 > 1):\n",
    "        if palindrome_check(n1*n2):\n",
    "            products.append(n1*n2)\n",
    "        n2 -= 1\n",
    "    n1 -= 1\n",
    "    \n",
    "products"
   ]
  }
 ],
 "metadata": {
  "kernelspec": {
   "display_name": "Python 2",
   "language": "python",
   "name": "python2"
  },
  "language_info": {
   "codemirror_mode": {
    "name": "ipython",
    "version": 2
   },
   "file_extension": ".py",
   "mimetype": "text/x-python",
   "name": "python",
   "nbconvert_exporter": "python",
   "pygments_lexer": "ipython2",
   "version": "2.7.10"
  }
 },
 "nbformat": 4,
 "nbformat_minor": 0
}
