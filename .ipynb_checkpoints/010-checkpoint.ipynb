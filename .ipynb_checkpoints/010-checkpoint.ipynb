{
 "cells": [
  {
   "cell_type": "markdown",
   "metadata": {},
   "source": [
    "#Problem 10: Summation of primes\n",
    "\n",
    "The sum of the primes below 10 is $ 2 + 3 + 5 + 7 = 17 $\n",
    "\n",
    "Find the sum of all the primes below two million."
   ]
  },
  {
   "cell_type": "code",
   "execution_count": 16,
   "metadata": {
    "collapsed": false
   },
   "outputs": [
    {
     "data": {
      "text/plain": [
       "[2, 3, 5, 7]"
      ]
     },
     "execution_count": 16,
     "metadata": {},
     "output_type": "execute_result"
    }
   ],
   "source": [
    "def primes (max_prime):\n",
    "    '''function that returns list of primes below max_prime and above 2'''\n",
    "    primes = [2]\n",
    "\n",
    "    for i in xrange(3, max_prime, 2):\n",
    "        primes.append(i)\n",
    "        for j in xrange(2,(i/2)+1):\n",
    "            if (i % j == 0):\n",
    "                primes.pop()\n",
    "                break\n",
    "\n",
    "    return primes\n",
    "\n",
    "# test function\n",
    "primes(10)"
   ]
  },
  {
   "cell_type": "code",
   "execution_count": null,
   "metadata": {
    "collapsed": false
   },
   "outputs": [],
   "source": [
    "# compute solution\n",
    "sum(primes(2*1000*1000))"
   ]
  }
 ],
 "metadata": {
  "kernelspec": {
   "display_name": "Python 2",
   "language": "python",
   "name": "python2"
  },
  "language_info": {
   "codemirror_mode": {
    "name": "ipython",
    "version": 2
   },
   "file_extension": ".py",
   "mimetype": "text/x-python",
   "name": "python",
   "nbconvert_exporter": "python",
   "pygments_lexer": "ipython2",
   "version": "2.7.10"
  }
 },
 "nbformat": 4,
 "nbformat_minor": 0
}
