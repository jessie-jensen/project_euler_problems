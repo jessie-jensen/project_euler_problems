{
 "cells": [
  {
   "cell_type": "markdown",
   "metadata": {},
   "source": [
    "#Problem 5: Smallest multiple\n",
    "\n",
    "2520 is the smallest number that can be divided by each of the numbers from 1 to 10 without any remainder.\n",
    "\n",
    "What is the smallest positive number that is evenly divisible by all of the numbers from 1 to 20?"
   ]
  },
  {
   "cell_type": "code",
   "execution_count": 57,
   "metadata": {
    "collapsed": true
   },
   "outputs": [],
   "source": [
    "import numpy as np\n",
    "import pandas as pd"
   ]
  },
  {
   "cell_type": "code",
   "execution_count": 1,
   "metadata": {
    "collapsed": false
   },
   "outputs": [
    {
     "data": {
      "text/plain": [
       "[5, 7, 13, 29]"
      ]
     },
     "execution_count": 1,
     "metadata": {},
     "output_type": "execute_result"
    }
   ],
   "source": [
    "def prime_factorization(n):\n",
    "    '''function that returns a list of prime factors of a given number'''\n",
    "    prime_factors = []\n",
    "    i = 2\n",
    "    \n",
    "    while (n > 1):\n",
    "        while (n % i == 0):\n",
    "            prime_factors.append(i)\n",
    "            n = n / i\n",
    "        i += 1\n",
    "    \n",
    "    return prime_factors\n",
    "            \n",
    "# test function\n",
    "prime_factorization(13195)"
   ]
  },
  {
   "cell_type": "code",
   "execution_count": 58,
   "metadata": {
    "collapsed": false
   },
   "outputs": [
    {
     "data": {
      "text/plain": [
       "[[2], [3], [2, 2], [5], [2, 3], [7], [2, 2, 2], [3, 3], [2, 5]]"
      ]
     },
     "execution_count": 58,
     "metadata": {},
     "output_type": "execute_result"
    }
   ],
   "source": [
    "prime_factors = []\n",
    "\n",
    "for i in xrange(2,11):\n",
    "    prime_factors.append(prime_factorization(i))\n",
    "    \n",
    "prime_factors"
   ]
  },
  {
   "cell_type": "code",
   "execution_count": 52,
   "metadata": {
    "collapsed": false
   },
   "outputs": [
    {
     "data": {
      "text/html": [
       "<div>\n",
       "<table border=\"1\" class=\"dataframe\">\n",
       "  <thead>\n",
       "    <tr style=\"text-align: right;\">\n",
       "      <th></th>\n",
       "      <th>decomp_occurances</th>\n",
       "      <th>prime_num</th>\n",
       "    </tr>\n",
       "  </thead>\n",
       "  <tbody>\n",
       "    <tr>\n",
       "      <th>0</th>\n",
       "      <td>1</td>\n",
       "      <td>2</td>\n",
       "    </tr>\n",
       "    <tr>\n",
       "      <th>1</th>\n",
       "      <td>1</td>\n",
       "      <td>3</td>\n",
       "    </tr>\n",
       "    <tr>\n",
       "      <th>2</th>\n",
       "      <td>2</td>\n",
       "      <td>2</td>\n",
       "    </tr>\n",
       "    <tr>\n",
       "      <th>3</th>\n",
       "      <td>1</td>\n",
       "      <td>5</td>\n",
       "    </tr>\n",
       "    <tr>\n",
       "      <th>4</th>\n",
       "      <td>1</td>\n",
       "      <td>3</td>\n",
       "    </tr>\n",
       "    <tr>\n",
       "      <th>5</th>\n",
       "      <td>1</td>\n",
       "      <td>2</td>\n",
       "    </tr>\n",
       "    <tr>\n",
       "      <th>6</th>\n",
       "      <td>1</td>\n",
       "      <td>7</td>\n",
       "    </tr>\n",
       "    <tr>\n",
       "      <th>7</th>\n",
       "      <td>3</td>\n",
       "      <td>2</td>\n",
       "    </tr>\n",
       "    <tr>\n",
       "      <th>8</th>\n",
       "      <td>2</td>\n",
       "      <td>3</td>\n",
       "    </tr>\n",
       "    <tr>\n",
       "      <th>9</th>\n",
       "      <td>1</td>\n",
       "      <td>2</td>\n",
       "    </tr>\n",
       "    <tr>\n",
       "      <th>10</th>\n",
       "      <td>1</td>\n",
       "      <td>5</td>\n",
       "    </tr>\n",
       "  </tbody>\n",
       "</table>\n",
       "</div>"
      ],
      "text/plain": [
       "    decomp_occurances  prime_num\n",
       "0                   1          2\n",
       "1                   1          3\n",
       "2                   2          2\n",
       "3                   1          5\n",
       "4                   1          3\n",
       "5                   1          2\n",
       "6                   1          7\n",
       "7                   3          2\n",
       "8                   2          3\n",
       "9                   1          2\n",
       "10                  1          5"
      ]
     },
     "execution_count": 52,
     "metadata": {},
     "output_type": "execute_result"
    }
   ],
   "source": [
    "decomposed_primes = pd.DataFrame(pd.Series(prime_factors[0]).value_counts(), columns = [\"decomp_occurances\"])\n",
    "\n",
    "for i in xrange(1, len(prime_factors)):\n",
    "    temp_df = pd.DataFrame(pd.Series(prime_factors[i]).value_counts(), columns = [\"decomp_occurances\"])\n",
    "    decomposed_primes = pd.concat([decomposed_primes, temp_df], axis = 0)\n",
    "\n",
    "decomposed_primes[\"prime_num\"] = decomposed_primes.index.get_values()\n",
    "decomposed_primes.reset_index(drop=True, inplace=True)\n",
    "decomposed_primes"
   ]
  },
  {
   "cell_type": "code",
   "execution_count": 66,
   "metadata": {
    "collapsed": false
   },
   "outputs": [
    {
     "data": {
      "text/html": [
       "<div>\n",
       "<table border=\"1\" class=\"dataframe\">\n",
       "  <thead>\n",
       "    <tr style=\"text-align: right;\">\n",
       "      <th></th>\n",
       "      <th>decomp_occurances</th>\n",
       "      <th>prime_num</th>\n",
       "      <th>factors</th>\n",
       "    </tr>\n",
       "    <tr>\n",
       "      <th>prime_num</th>\n",
       "      <th></th>\n",
       "      <th></th>\n",
       "      <th></th>\n",
       "    </tr>\n",
       "  </thead>\n",
       "  <tbody>\n",
       "    <tr>\n",
       "      <th>2</th>\n",
       "      <td>3</td>\n",
       "      <td>2</td>\n",
       "      <td>8</td>\n",
       "    </tr>\n",
       "    <tr>\n",
       "      <th>3</th>\n",
       "      <td>2</td>\n",
       "      <td>3</td>\n",
       "      <td>9</td>\n",
       "    </tr>\n",
       "    <tr>\n",
       "      <th>5</th>\n",
       "      <td>1</td>\n",
       "      <td>5</td>\n",
       "      <td>5</td>\n",
       "    </tr>\n",
       "    <tr>\n",
       "      <th>7</th>\n",
       "      <td>1</td>\n",
       "      <td>7</td>\n",
       "      <td>7</td>\n",
       "    </tr>\n",
       "  </tbody>\n",
       "</table>\n",
       "</div>"
      ],
      "text/plain": [
       "           decomp_occurances  prime_num  factors\n",
       "prime_num                                       \n",
       "2                          3          2        8\n",
       "3                          2          3        9\n",
       "5                          1          5        5\n",
       "7                          1          7        7"
      ]
     },
     "execution_count": 66,
     "metadata": {},
     "output_type": "execute_result"
    }
   ],
   "source": [
    "unique_prime_factors = decomposed_primes.groupby([\"prime_num\"]).max()\n",
    "unique_prime_factors[\"prime_num\"] = unique_prime_factors.index.get_values()\n",
    "\n",
    "unique_prime_factors[\"factors\"] = unique_prime_factors.prime_num ** unique_prime_factors.decomp_occurances\n",
    "unique_prime_factors"
   ]
  },
  {
   "cell_type": "code",
   "execution_count": 67,
   "metadata": {
    "collapsed": false
   },
   "outputs": [
    {
     "data": {
      "text/plain": [
       "2520"
      ]
     },
     "execution_count": 67,
     "metadata": {},
     "output_type": "execute_result"
    }
   ],
   "source": [
    "np.prod(unique_prime_factors.factors)"
   ]
  },
  {
   "cell_type": "markdown",
   "metadata": {},
   "source": [
    "##Brute force method\n",
    "\n",
    "I think this solution is pretty funny..."
   ]
  },
  {
   "cell_type": "code",
   "execution_count": 25,
   "metadata": {
    "collapsed": false
   },
   "outputs": [
    {
     "name": "stdout",
     "output_type": "stream",
     "text": [
      "232792560\n"
     ]
    }
   ],
   "source": [
    "check = False\n",
    "i = 20\n",
    "\n",
    "while (check == False):\n",
    "    if (i % 20 == 0):\n",
    "        if (i % 19 == 0):\n",
    "            if (i % 18 == 0):\n",
    "                if (i % 17 == 0):\n",
    "                    if (i % 16 == 0):\n",
    "                        if (i % 15 == 0):\n",
    "                            if (i % 14 == 0):\n",
    "                                if (i % 13 == 0):\n",
    "                                    if (i % 12 == 0):\n",
    "                                        if (i % 11 == 0):\n",
    "                                            print i\n",
    "                                            check = True\n",
    "    i += 1"
   ]
  }
 ],
 "metadata": {
  "kernelspec": {
   "display_name": "Python 2",
   "language": "python",
   "name": "python2"
  },
  "language_info": {
   "codemirror_mode": {
    "name": "ipython",
    "version": 2
   },
   "file_extension": ".py",
   "mimetype": "text/x-python",
   "name": "python",
   "nbconvert_exporter": "python",
   "pygments_lexer": "ipython2",
   "version": "2.7.10"
  }
 },
 "nbformat": 4,
 "nbformat_minor": 0
}
