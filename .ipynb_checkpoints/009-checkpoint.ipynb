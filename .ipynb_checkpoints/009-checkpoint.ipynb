{
 "cells": [
  {
   "cell_type": "markdown",
   "metadata": {},
   "source": [
    "#Problem 9: Special Pythagorean triplet\n",
    "\n",
    "A Pythagorean triplet is a set of three natural numbers, $ a < b < c $, for which,\n",
    "\n",
    "$ a^2 + b^2 = c^2 $\n",
    "\n",
    "For example, $ 3^2 + 4^2 = 9 + 16 = 25 = 5^2 $.\n",
    "\n",
    "There exists exactly one Pythagorean triplet for which $ a + b + c = 1000 $\n",
    "\n",
    "Find the product $ abc $"
   ]
  },
  {
   "cell_type": "code",
   "execution_count": 34,
   "metadata": {
    "collapsed": false
   },
   "outputs": [
    {
     "data": {
      "text/plain": [
       "[3, 4, 5]"
      ]
     },
     "execution_count": 34,
     "metadata": {},
     "output_type": "execute_result"
    }
   ],
   "source": [
    "def pythagorean_triplet_finder (x_sum):\n",
    "    for a in xrange(1, x_sum - 2):\n",
    "        for b in xrange(a, x_sum - a - 1):\n",
    "            if (x_sum - a - b > b):\n",
    "                c = x_sum - a - b\n",
    "                if (a**2 + b**2 == c**2):\n",
    "                     pythagorean_triplet = [a, b, c]\n",
    "\n",
    "    try:\n",
    "        return pythagorean_triplet\n",
    "    except:\n",
    "        print 'No pythagorean triplet for %s' % x_sum\n",
    "        \n",
    "# test function\n",
    "pythagorean_triplet_finder(12)"
   ]
  },
  {
   "cell_type": "code",
   "execution_count": 37,
   "metadata": {
    "collapsed": false
   },
   "outputs": [
    {
     "data": {
      "text/plain": [
       "31875000"
      ]
     },
     "execution_count": 37,
     "metadata": {},
     "output_type": "execute_result"
    }
   ],
   "source": [
    "# calculate answer\n",
    "import operator\n",
    "reduce(operator.mul, pythagorean_triplet_finder(1000), 1)"
   ]
  }
 ],
 "metadata": {
  "kernelspec": {
   "display_name": "Python 2",
   "language": "python",
   "name": "python2"
  },
  "language_info": {
   "codemirror_mode": {
    "name": "ipython",
    "version": 2
   },
   "file_extension": ".py",
   "mimetype": "text/x-python",
   "name": "python",
   "nbconvert_exporter": "python",
   "pygments_lexer": "ipython2",
   "version": "2.7.10"
  }
 },
 "nbformat": 4,
 "nbformat_minor": 0
}
