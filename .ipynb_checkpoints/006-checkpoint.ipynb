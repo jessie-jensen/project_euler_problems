{
 "cells": [
  {
   "cell_type": "markdown",
   "metadata": {},
   "source": [
    "#Problem 6: Sum square difference\n",
    "\n",
    "The sum of the squares of the first ten natural numbers is, \n",
    "+ $ 1^2 + 2^2 + ... + 10^2 = 385 $\n",
    "\n",
    "\n",
    "The square of the sum of the first ten natural numbers is, \n",
    "+ $ (1 + 2 + ... + 10)^2 = 552 = 3025 $\n",
    "\n",
    "\n",
    "Hence the difference between the sum of the squares of the first ten natural numbers and the square of the sum is,\n",
    "+ $ 3025 − 385 = 2640 $\n",
    "\n",
    "Find the difference between the sum of the squares of the first one hundred natural numbers and the square of the sum."
   ]
  },
  {
   "cell_type": "code",
   "execution_count": 10,
   "metadata": {
    "collapsed": false
   },
   "outputs": [
    {
     "data": {
      "text/plain": [
       "385"
      ]
     },
     "execution_count": 10,
     "metadata": {},
     "output_type": "execute_result"
    }
   ],
   "source": [
    "def sum_of_squares (n):\n",
    "    '''function that returns the sum of squares for the first n natural numbers'''\n",
    "    a = 0\n",
    "    for i in xrange(1, n+1):\n",
    "        a = a + i**2\n",
    "    \n",
    "    return a\n",
    "\n",
    "# test function\n",
    "sum_of_squares(10)"
   ]
  },
  {
   "cell_type": "code",
   "execution_count": 12,
   "metadata": {
    "collapsed": false
   },
   "outputs": [
    {
     "data": {
      "text/plain": [
       "3025"
      ]
     },
     "execution_count": 12,
     "metadata": {},
     "output_type": "execute_result"
    }
   ],
   "source": [
    "def square_of_sums (n):\n",
    "    '''function that returns the square of sums for the first n natural numbers'''\n",
    "    a = 0\n",
    "    for i in xrange(1, n+1):\n",
    "        a = a + i\n",
    "        \n",
    "    return a**2\n",
    "\n",
    "# test function\n",
    "square_of_sums(10)"
   ]
  },
  {
   "cell_type": "code",
   "execution_count": 13,
   "metadata": {
    "collapsed": false
   },
   "outputs": [
    {
     "data": {
      "text/plain": [
       "25164150"
      ]
     },
     "execution_count": 13,
     "metadata": {},
     "output_type": "execute_result"
    }
   ],
   "source": [
    "# compute solution\n",
    "square_of_sums(100) - sum_of_squares(100)"
   ]
  }
 ],
 "metadata": {
  "kernelspec": {
   "display_name": "Python 2",
   "language": "python",
   "name": "python2"
  },
  "language_info": {
   "codemirror_mode": {
    "name": "ipython",
    "version": 2
   },
   "file_extension": ".py",
   "mimetype": "text/x-python",
   "name": "python",
   "nbconvert_exporter": "python",
   "pygments_lexer": "ipython2",
   "version": "2.7.10"
  }
 },
 "nbformat": 4,
 "nbformat_minor": 0
}
