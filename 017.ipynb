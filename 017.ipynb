{
 "cells": [
  {
   "cell_type": "markdown",
   "metadata": {},
   "source": [
    "#Problem 17: Number letter counts\n",
    "\n",
    "If the numbers 1 to 5 are written out in words: one, two, three, four, five, then there are $ 3 + 3 + 5 + 4 + 4 = 19 $ letters used in total.\n",
    "\n",
    "If all the numbers from 1 to 1000 (one thousand) inclusive were written out in words, how many letters would be used?\n",
    "\n",
    "\n",
    "*NOTE: Do not count spaces or hyphens. For example, 342 (three hundred and forty-two) contains 23 letters and 115 (one hundred and fifteen) contains 20 letters. The use of \"and\" when writing out numbers is in compliance with British usage.*"
   ]
  },
  {
   "cell_type": "code",
   "execution_count": 1,
   "metadata": {
    "collapsed": false
   },
   "outputs": [
    {
     "name": "stdout",
     "output_type": "stream",
     "text": [
      " one\n",
      " ten\n",
      " nineteen\n",
      " twenty-eight\n",
      " thirty-seven\n",
      " forty-six\n",
      " fifty-five\n",
      " sixty-four\n",
      " seventy-three\n",
      " eighty-two\n",
      " ninety-one\n",
      " one hundred\n",
      " one hundred and nine\n",
      " one hundred and eighteen\n",
      " one hundred and twenty-seven\n"
     ]
    }
   ],
   "source": [
    "def number_writer(x):\n",
    "    '''returns written natural number x (up to 9,999); written in compliance with British usage'''\n",
    "    if ((x>=10000) | (x<=0)):\n",
    "        raise ValueError('x out of function range. 0 < x < 10,000')\n",
    "    \n",
    "    s = ''\n",
    "    space = ' '\n",
    "    x_s = str(x)\n",
    "    ones_and_teens_dict = {1:'one',2:'two',3:'three',4:'four',5:'five',6:'six',7:'seven',8:'eight',9:'nine',10:'ten',11:'eleven',12:'twelve',13:'thirteen',14:'fourteen',15:'fifteen',16:'sixteen',17:'seventeen',18:'eighteen',19:'nineteen'}\n",
    "    tens_dict = {2:'twenty',3:'thirty',4:'forty',5:'fifty',6:'sixty',7:'seventy',8:'eighty',9:'ninety'}\n",
    "    \n",
    "    # deal with thousands\n",
    "    if (x >= 1000):\n",
    "        s = space.join((s, ones_and_teens_dict[int(x_s[0])], 'thousand'))\n",
    "        \n",
    "        x = x % 1000\n",
    "        x_s = str(x)\n",
    "    \n",
    "    # deal with hundreds\n",
    "    if (x >= 100):\n",
    "        s = space.join((s, ones_and_teens_dict[int(x_s[0])], 'hundred'))\n",
    "        \n",
    "        x = x % 100\n",
    "        x_s = str(x)\n",
    "    \n",
    "    # add hundreds place 'and'\n",
    "    if ((len(s) > 0) & (x != 0)):\n",
    "        s = space.join((s, 'and'))\n",
    "    \n",
    "    # deal with tens & ones\n",
    "    if (x >= 20):\n",
    "        if (x_s[1]=='0'):\n",
    "            s = space.join((s, tens_dict[int(x_s[0])]))\n",
    "        else:\n",
    "            tens = '%s-%s' % (tens_dict[int(x_s[0])], ones_and_teens_dict[int(x_s[1])])\n",
    "            s = space.join((s, tens))\n",
    "    elif (x >= 1):\n",
    "        s = space.join((s, ones_and_teens_dict[x]))\n",
    "        \n",
    "    return s  \n",
    "    \n",
    "    \n",
    "# test function\n",
    "for i in xrange(1,130,9):\n",
    "    print number_writer(i)"
   ]
  },
  {
   "cell_type": "code",
   "execution_count": 2,
   "metadata": {
    "collapsed": false
   },
   "outputs": [
    {
     "data": {
      "text/plain": [
       "21124"
      ]
     },
     "execution_count": 2,
     "metadata": {},
     "output_type": "execute_result"
    }
   ],
   "source": [
    "# compute solution\n",
    "l = []\n",
    "blank = ''\n",
    "\n",
    "for i in xrange(1,1001):\n",
    "    l.append(number_writer(i))\n",
    "    \n",
    "len(blank.join(l).replace(' ','').replace('-',''))"
   ]
  }
 ],
 "metadata": {
  "kernelspec": {
   "display_name": "Python 2",
   "language": "python",
   "name": "python2"
  },
  "language_info": {
   "codemirror_mode": {
    "name": "ipython",
    "version": 2
   },
   "file_extension": ".py",
   "mimetype": "text/x-python",
   "name": "python",
   "nbconvert_exporter": "python",
   "pygments_lexer": "ipython2",
   "version": "2.7.10"
  }
 },
 "nbformat": 4,
 "nbformat_minor": 0
}
