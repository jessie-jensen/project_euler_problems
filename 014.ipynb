{
 "cells": [
  {
   "cell_type": "markdown",
   "metadata": {},
   "source": [
    "#Problem 14: Longest Collatz sequence\n",
    "\n",
    "The following iterative sequence is defined for the set of positive integers:\n",
    "\n",
    "$ n → n/2 $ (n is even)\n",
    "\n",
    "$ n → 3n + 1 $ (n is odd)\n",
    "\n",
    "Using the rule above and starting with 13, we generate the following sequence:\n",
    "\n",
    "13 → 40 → 20 → 10 → 5 → 16 → 8 → 4 → 2 → 1\n",
    "\n",
    "It can be seen that this sequence (starting at 13 and finishing at 1) contains 10 terms. Although it has not been proved yet (Collatz Problem), it is thought that all starting numbers finish at 1.\n",
    "\n",
    "Which starting number, under one million, produces the longest chain?"
   ]
  },
  {
   "cell_type": "code",
   "execution_count": 1,
   "metadata": {
    "collapsed": false
   },
   "outputs": [
    {
     "data": {
      "text/plain": [
       "10"
      ]
     },
     "execution_count": 1,
     "metadata": {},
     "output_type": "execute_result"
    }
   ],
   "source": [
    "def collatz_sequence_length (n):\n",
    "    '''function that returns the length of the collatz sequence of integer n'''\n",
    "    i = 1\n",
    "\n",
    "    while (n != 1):\n",
    "        if (n % 2 == 0):\n",
    "            n = n/2\n",
    "        else:\n",
    "            n = 3*n + 1\n",
    "\n",
    "        i += 1\n",
    "    \n",
    "    return i\n",
    "\n",
    "# test function\n",
    "collatz_sequence_length(13)"
   ]
  },
  {
   "cell_type": "code",
   "execution_count": 2,
   "metadata": {
    "collapsed": false
   },
   "outputs": [
    {
     "data": {
      "text/plain": [
       "(9, 20)"
      ]
     },
     "execution_count": 2,
     "metadata": {},
     "output_type": "execute_result"
    }
   ],
   "source": [
    "def max_collatz_length (x):\n",
    "    '''function that returns the max Collatz sequence length & corresponding number for numbers under x'''\n",
    "\n",
    "    max_length = 0\n",
    "    num = 1\n",
    "\n",
    "    for i in xrange(1, x):\n",
    "        temp = collatz_sequence_length(i)\n",
    "\n",
    "        if (temp > max_length):\n",
    "            max_length = temp\n",
    "            num = i\n",
    "\n",
    "    return num, max_length\n",
    "\n",
    "# test function\n",
    "max_collatz_length(10)"
   ]
  },
  {
   "cell_type": "code",
   "execution_count": 3,
   "metadata": {
    "collapsed": false
   },
   "outputs": [
    {
     "data": {
      "text/plain": [
       "837799"
      ]
     },
     "execution_count": 3,
     "metadata": {},
     "output_type": "execute_result"
    }
   ],
   "source": [
    "# compute solution\n",
    "max_collatz_length(1000*1000)[0]"
   ]
  }
 ],
 "metadata": {
  "kernelspec": {
   "display_name": "Python 2",
   "language": "python",
   "name": "python2"
  },
  "language_info": {
   "codemirror_mode": {
    "name": "ipython",
    "version": 2
   },
   "file_extension": ".py",
   "mimetype": "text/x-python",
   "name": "python",
   "nbconvert_exporter": "python",
   "pygments_lexer": "ipython2",
   "version": "2.7.10"
  }
 },
 "nbformat": 4,
 "nbformat_minor": 0
}
